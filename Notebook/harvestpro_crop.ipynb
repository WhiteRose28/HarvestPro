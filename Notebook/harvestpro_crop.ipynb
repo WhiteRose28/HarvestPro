{
 "cells": [
  {
   "cell_type": "code",
   "execution_count": 20,
   "metadata": {},
   "outputs": [],
   "source": [
    "import numpy as np # linear algebra\n",
    "import pandas as pd # data processing, CSV file I/O (e.g. pd.read_csv)\n",
    "import matplotlib.pyplot as plt"
   ]
  },
  {
   "cell_type": "code",
   "execution_count": 21,
   "metadata": {},
   "outputs": [
    {
     "name": "stdout",
     "output_type": "stream",
     "text": [
      "    N   P   K  temperature   humidity        ph    rainfall    soil_type  \\\n",
      "0  90  42  43    20.879744  82.002744  6.502985  202.935536  Clayey soil   \n",
      "1  85  58  41    21.770462  80.319644  7.038096  226.655537  Clayey soil   \n",
      "2  60  55  44    23.004459  82.320763  7.840207  263.964248  Clayey soil   \n",
      "3  74  35  40    26.491096  80.158363  6.980401  242.864034  Clayey soil   \n",
      "4  78  42  42    20.130175  81.604873  7.628473  262.717340  Clayey soil   \n",
      "5  69  37  42    23.058049  83.370118  7.073454  251.055000  Clayey soil   \n",
      "6  69  55  38    22.708838  82.639414  5.700806  271.324860  Clayey soil   \n",
      "7  94  53  40    20.277744  82.894086  5.718627  241.974195  Clayey soil   \n",
      "8  89  54  38    24.515881  83.535216  6.685346  230.446236  Clayey soil   \n",
      "9  68  58  38    23.223974  83.033227  6.336254  221.209196  Clayey soil   \n",
      "\n",
      "        Climate label  \n",
      "0        Summer  rice  \n",
      "1  Post-monsoon  rice  \n",
      "2        Summer  rice  \n",
      "3       Monsoon  rice  \n",
      "4       Monsoon  rice  \n",
      "5       Monsoon  rice  \n",
      "6  Post-monsoon  rice  \n",
      "7        Winter  rice  \n",
      "8  Post-monsoon  rice  \n",
      "9        Winter  rice  \n"
     ]
    }
   ],
   "source": [
    "data=pd.read_csv(\"crop_data.csv\")\n",
    "print(data.head(10))"
   ]
  },
  {
   "cell_type": "code",
   "execution_count": 22,
   "metadata": {},
   "outputs": [
    {
     "name": "stdout",
     "output_type": "stream",
     "text": [
      "<class 'pandas.core.frame.DataFrame'>\n",
      "RangeIndex: 2100 entries, 0 to 2099\n",
      "Data columns (total 10 columns):\n",
      " #   Column       Non-Null Count  Dtype  \n",
      "---  ------       --------------  -----  \n",
      " 0   N            2100 non-null   int64  \n",
      " 1   P            2100 non-null   int64  \n",
      " 2   K            2100 non-null   int64  \n",
      " 3   temperature  2100 non-null   float64\n",
      " 4   humidity     2100 non-null   float64\n",
      " 5   ph           2100 non-null   float64\n",
      " 6   rainfall     2100 non-null   float64\n",
      " 7   soil_type    2100 non-null   object \n",
      " 8   Climate      2100 non-null   object \n",
      " 9   label        2100 non-null   object \n",
      "dtypes: float64(4), int64(3), object(3)\n",
      "memory usage: 164.2+ KB\n"
     ]
    },
    {
     "data": {
      "text/plain": [
       "(None,\n",
       "                   N            P           K  temperature     humidity  \\\n",
       " count   2100.000000  2100.000000  2100.00000  2100.000000  2100.000000   \n",
       " unique          NaN          NaN         NaN          NaN          NaN   \n",
       " top             NaN          NaN         NaN          NaN          NaN   \n",
       " freq            NaN          NaN         NaN          NaN          NaN   \n",
       " mean      48.140000    54.535238    49.01619    25.619852    72.082347   \n",
       " std       35.952743    33.273853    51.67570     5.172657    22.577547   \n",
       " min        0.000000     5.000000     5.00000     8.825675    14.258040   \n",
       " 25%       20.000000    29.000000    20.00000    22.602437    61.333844   \n",
       " 50%       36.000000    53.000000    33.00000    25.563850    81.035571   \n",
       " 75%       81.000000    69.000000    50.00000    28.684566    90.194600   \n",
       " max      140.000000   145.000000   205.00000    43.675493    99.981876   \n",
       " \n",
       "                  ph     rainfall   soil_type Climate label  \n",
       " count   2100.000000  2100.000000        2100    2100  2100  \n",
       " unique          NaN          NaN           7       4    21  \n",
       " top             NaN          NaN  loamy soil  Winter  rice  \n",
       " freq            NaN          NaN        1000     546   100  \n",
       " mean       6.454203   100.863530         NaN     NaN   NaN  \n",
       " std        0.783691    54.629453         NaN     NaN   NaN  \n",
       " min        3.504752    20.211267         NaN     NaN   NaN  \n",
       " 25%        5.948298    63.489314         NaN     NaN   NaN  \n",
       " 50%        6.408155    91.978786         NaN     NaN   NaN  \n",
       " 75%        6.904050   117.532747         NaN     NaN   NaN  \n",
       " max        9.935091   298.560117         NaN     NaN   NaN  )"
      ]
     },
     "execution_count": 22,
     "metadata": {},
     "output_type": "execute_result"
    }
   ],
   "source": [
    "# Display basic information and descriptive statistics for each column\n",
    "info = data.info()\n",
    "description = data.describe(include='all')\n",
    "\n",
    "info, description"
   ]
  },
  {
   "cell_type": "code",
   "execution_count": 32,
   "metadata": {},
   "outputs": [
    {
     "name": "stdout",
     "output_type": "stream",
     "text": [
      "Decision Tree Accuracy: 0.8833333333333333\n",
      "Random Forest Accuracy: 0.9071428571428571\n"
     ]
    },
    {
     "data": {
      "image/png": "[encoded data removed]",
      "text/plain": [
       "<Figure size 640x480 with 1 Axes>"
      ]
     },
     "metadata": {},
     "output_type": "display_data"
    }
   ],
   "source": [
    "import pandas as pd\n",
    "from sklearn.model_selection import train_test_split\n",
    "from sklearn.tree import DecisionTreeClassifier\n",
    "from sklearn.ensemble import RandomForestClassifier\n",
    "from sklearn.metrics import accuracy_score\n",
    "\n",
    "# Load the dataset\n",
    "data = pd.read_csv('crop_data.csv')\n",
    " \n",
    "# Keep only the required features\n",
    "data = data[['temperature', 'humidity', 'rainfall', 'label']]\n",
    " \n",
    "# Split the dataset into features and target variable\n",
    "X = data.drop(columns=['label'])\n",
    "y = data['label']\n",
    " \n",
    "# Split the data into training and testing sets\n",
    "X_train, X_test, y_train, y_test = train_test_split(X, y, test_size=0.2, random_state=42)\n",
    "\n",
    "# Initialize the Decision Tree classifier\n",
    "dt_clf = DecisionTreeClassifier()\n",
    "\n",
    "# Train the Decision Tree classifier\n",
    "dt_clf.fit(X_train, y_train)\n",
    "\n",
    "# Predict on the test set using Decision Tree classifier\n",
    "dt_y_pred = dt_clf.predict(X_test)\n",
    "\n",
    "# Calculate accuracy using Decision Tree classifier\n",
    "dt_accuracy = accuracy_score(y_test, dt_y_pred)\n",
    "\n",
    "# Initialize the Random Forest classifier\n",
    "rf_clf = RandomForestClassifier()\n",
    "\n",
    "# Train the Random Forest classifier\n",
    "rf_clf.fit(X_train, y_train)\n",
    "\n",
    "# Predict on the test set using Random Forest classifier\n",
    "rf_y_pred = rf_clf.predict(X_test)\n",
    "\n",
    "# Calculate accuracy using Random Forest classifier\n",
    "rf_accuracy = accuracy_score(y_test, rf_y_pred)\n",
    "\n",
    "# Compare the accuracies\n",
    "print(\"Decision Tree Accuracy:\", dt_accuracy)\n",
    "print(\"Random Forest Accuracy:\", rf_accuracy)\n",
    "\n",
    "import matplotlib.pyplot as plt\n",
    "\n",
    "# Define the labels and accuracies\n",
    "labels = ['Decision Tree', 'Random Forest']\n",
    "accuracies = [dt_accuracy, rf_accuracy]\n",
    "\n",
    "# Create a bar plot\n",
    "plt.bar(labels, accuracies)\n",
    "plt.xlabel('Classifier')\n",
    "plt.ylabel('Accuracy')\n",
    "plt.title('Comparison of Decision Tree and Random Forest Accuracies')\n",
    "\n",
    "# Add text annotations to the bars\n",
    "for i, v in enumerate(accuracies):\n",
    "    plt.text(i, v, f\"{v:.2f}%\", ha='center', va='bottom')\n",
    "\n",
    "# Display the plot\n",
    "plt.show()\n"
   ]
  },
  {
   "cell_type": "code",
   "execution_count": 25,
   "metadata": {},
   "outputs": [
    {
     "name": "stdout",
     "output_type": "stream",
     "text": [
      "Accuracy: 0.9119047619047619\n"
     ]
    }
   ],
   "source": [
    "# Initialize the Random Forest classifier\n",
    "clf = RandomForestClassifier()\n",
    " \n",
    "# Train the classifier\n",
    "clf.fit(X_train, y_train)\n",
    " \n",
    "# Predict on the test set\n",
    "y_pred = clf.predict(X_test)\n",
    " \n",
    "# Calculate accuracy\n",
    "accuracy = accuracy_score(y_test, y_pred)\n",
    "print(\"Accuracy:\", accuracy)\n",
    " "
   ]
  },
  {
   "cell_type": "code",
   "execution_count": 38,
   "metadata": {},
   "outputs": [
    {
     "data": {
      "image/png": "[encoded data removed]",
      "text/plain": [
       "<Figure size 1000x600 with 1 Axes>"
      ]
     },
     "metadata": {},
     "output_type": "display_data"
    }
   ],
   "source": [
    "# Get the feature importances from the trained model\n",
    "importances = clf.feature_importances_\n",
    "\n",
    "# Get the names of the features\n",
    "feature_names = X.columns\n",
    "\n",
    "# Sort the feature importances in descending order\n",
    "indices = np.argsort(importances)[::-1]\n",
    "\n",
    "# Create a bar plot of the feature importances\n",
    "plt.figure(figsize=(10, 6))\n",
    "plt.bar(range(X.shape[1]), importances[indices])\n",
    "plt.xticks(range(X.shape[1]), feature_names[indices], rotation=90)\n",
    "plt.xlabel('Features')\n",
    "plt.ylabel('Importance')\n",
    "plt.title('Feature Importance')\n",
    "\n",
    "# Add text annotations to the bars\n",
    "for i, v in enumerate(importances[indices]):\n",
    "    plt.text(i, v, f\"{v:.2f}\", ha='center', va='bottom')\n",
    "\n",
    "plt.show()\n"
   ]
  },
  {
   "cell_type": "code",
   "execution_count": 19,
   "metadata": {},
   "outputs": [],
   "source": [
    "import pickle\n",
    "\n",
    "# Export the model\n",
    "with open('crop_model.pkl', 'wb') as file:\n",
    "    pickle.dump(clf, file)"
   ]
  },
  {
   "cell_type": "code",
   "execution_count": 20,
   "metadata": {},
   "outputs": [],
   "source": [
    "# Load the model\n",
    "with open('crop_model.pkl', 'rb') as file:\n",
    "    model = pickle.load(file)"
   ]
  },
  {
   "cell_type": "code",
   "execution_count": 21,
   "metadata": {},
   "outputs": [
    {
     "name": "stdout",
     "output_type": "stream",
     "text": [
      "Model saved as crop_classifier_model.pkl\n"
     ]
    }
   ],
   "source": [
    "import joblib\n",
    "\n",
    "# Save the trained model to a file\n",
    "model_filename = 'crop_classifier_model.pkl'\n",
    "joblib.dump(clf, model_filename)\n",
    "\n",
    "print(f\"Model saved as {model_filename}\")"
   ]
  },
  {
   "cell_type": "code",
   "execution_count": 22,
   "metadata": {},
   "outputs": [],
   "source": [
    "# Function to predict crops for given conditions\n",
    "def predict_crops_for_conditions(conditions):\n",
    "    print(conditions)\n",
    "    # Preprocess the conditions and convert to DataFrame\n",
    "    conditions_df = pd.DataFrame(conditions, index=[0])\n",
    "    print(conditions_df)\n",
    "    # Predict probabilities for all crop labels\n",
    "    probs = model.predict_proba(conditions_df)[0]\n",
    "    # Get indices of top probabilities\n",
    "    top_indices = np.argsort(probs)[::-1]  # Sort probabilities in descending order\n",
    "    # Initialize list to store predicted crops and their probabilities\n",
    "    predicted_crops = []\n",
    "    # Loop through top probabilities and add crops until two are found\n",
    "    for idx in top_indices:\n",
    "        if len(predicted_crops) < 3:\n",
    "            predicted_crops.append((f\"{clf.classes_[idx]} ({probs[idx]*100:.2f}%)\"))\n",
    "    return predicted_crops"
   ]
  },
  {
   "cell_type": "code",
   "execution_count": 23,
   "metadata": {},
   "outputs": [
    {
     "name": "stdout",
     "output_type": "stream",
     "text": [
      "{'temperature': 7.981375029160215, 'humidity': 70.45572916666667, 'rainfall': 0.050075521741140015}\n",
      "   temperature   humidity  rainfall\n",
      "0     7.981375  70.455729  0.050076\n",
      "Predicted Crop Labels for Sample Conditions:\n",
      "['lentil (35.00%)', 'muskmelon (26.00%)', 'grapes (21.00%)']\n"
     ]
    }
   ],
   "source": [
    "# Choose a single set of conditions for debugging\n",
    "sample_conditions = {\n",
    "    'temperature': 7.981375029160215,\n",
    "    'humidity': 70.45572916666667,\n",
    "    'rainfall': 0.050075521741140015, \n",
    "}\n",
    " \n",
    "# Predict crops for the sample conditions\n",
    "predicted_crops_sample = predict_crops_for_conditions(sample_conditions)\n",
    " \n",
    "# Print the predicted crops for the sample conditions\n",
    "print(\"Predicted Crop Labels for Sample Conditions:\")\n",
    "print(predicted_crops_sample)"
   ]
  }
 ],
 "metadata": {
  "kernelspec": {
   "display_name": "Python 3 (ipykernel)",
   "language": "python",
   "name": "python3"
  }
 },
 "nbformat": 4,
 "nbformat_minor": 2
}
